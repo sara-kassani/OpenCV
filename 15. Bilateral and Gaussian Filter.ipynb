{
 "cells": [
  {
   "cell_type": "code",
   "execution_count": 1,
   "metadata": {
    "collapsed": true
   },
   "outputs": [],
   "source": [
    "import cv2\n",
    "import numpy as np\n",
    "\n",
    "img = cv2.imread('./data/flower2.jpg')\n",
    "\n",
    "# resize the image for faster computation\n",
    "img = cv2.resize(img, None, fx=0.6, fy=0.6, interpolation=cv2.INTER_AREA)"
   ]
  },
  {
   "cell_type": "code",
   "execution_count": 2,
   "metadata": {},
   "outputs": [
    {
     "data": {
      "text/plain": [
       "-1"
      ]
     },
     "execution_count": 2,
     "metadata": {},
     "output_type": "execute_result"
    }
   ],
   "source": [
    "img_gaussian = cv2.GaussianBlur(img, (13,13), 0)\n",
    "img_bilateral = cv2.bilateralFilter(img, 13, 70, 50)\n",
    "\n",
    "cv2.imshow('Input', img)\n",
    "cv2.imshow('Gaussian filter', img_gaussian)\n",
    "cv2.imshow('Bilateral filter', img_bilateral)\n",
    "cv2.waitKey(3000)"
   ]
  }
 ],
 "metadata": {
  "kernelspec": {
   "display_name": "Python 3",
   "language": "python",
   "name": "python3"
  },
  "language_info": {
   "codemirror_mode": {
    "name": "ipython",
    "version": 3
   },
   "file_extension": ".py",
   "mimetype": "text/x-python",
   "name": "python",
   "nbconvert_exporter": "python",
   "pygments_lexer": "ipython3",
   "version": "3.6.2"
  }
 },
 "nbformat": 4,
 "nbformat_minor": 2
}
