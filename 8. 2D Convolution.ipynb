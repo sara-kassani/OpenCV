{
 "cells": [
  {
   "cell_type": "markdown",
   "metadata": {},
   "source": [
    "# 2D Convolution"
   ]
  },
  {
   "cell_type": "markdown",
   "metadata": {},
   "source": [
    "<div style=\"text-align: justify\"> Convolution is a fundamental operation in image processing. We basically apply a mathematical operator to each pixel and change its value in some way. To apply this mathematical operator, we use another matrix called a kernel. The kernel is usually much smaller in size than the input image. For each pixel in the image, we take the kernel and place it on top such that the center of the kernel coincides with the pixel under consideration. We then multiply each value in the kernel matrix with the corresponding values in the image, and then sum it up. This is the new value that will be substituted in\n",
    "this position in the output image. <br>\n",
    "\n",
    "\n",
    "Here, the kernel is called the “image filter” and the process of applying this kernel to the given image is called “image filtering”. The output obtained after applying the kernel to the image is called the filtered image. Depending on the values in the kernel, it performs different functions like blurring, detecting edges, and so on. </div>"
   ]
  },
  {
   "cell_type": "code",
   "execution_count": 1,
   "metadata": {
    "collapsed": true
   },
   "outputs": [],
   "source": [
    "import cv2\n",
    "import numpy as np\n",
    "\n",
    "img = cv2.imread('./data/flower4.jpg')\n",
    "rows, cols = img.shape[:2]"
   ]
  },
  {
   "cell_type": "code",
   "execution_count": 2,
   "metadata": {},
   "outputs": [
    {
     "data": {
      "text/plain": [
       "-1"
      ]
     },
     "execution_count": 2,
     "metadata": {},
     "output_type": "execute_result"
    }
   ],
   "source": [
    "kernel_identity = np.array([[0,0,0], [0,1,0], [0,0,0]])\n",
    "kernel_3x3 = np.ones((3,3), np.float32) / 9.0\n",
    "kernel_5x5 = np.ones((5,5), np.float32) / 25.0\n",
    "\n",
    "cv2.imshow('Original', img)\n",
    "\n",
    "output = cv2.filter2D(img, -1, kernel_identity)\n",
    "cv2.imshow('Identity filter', output)\n",
    "\n",
    "output = cv2.filter2D(img, -1, kernel_3x3)\n",
    "cv2.imshow('3x3 filter', output)\n",
    "\n",
    "output = cv2.filter2D(img, -1, kernel_5x5)\n",
    "cv2.imshow('5x5 filter', output)\n",
    "\n",
    "cv2.waitKey(3000)"
   ]
  }
 ],
 "metadata": {
  "kernelspec": {
   "display_name": "Python 3",
   "language": "python",
   "name": "python3"
  },
  "language_info": {
   "codemirror_mode": {
    "name": "ipython",
    "version": 3
   },
   "file_extension": ".py",
   "mimetype": "text/x-python",
   "name": "python",
   "nbconvert_exporter": "python",
   "pygments_lexer": "ipython3",
   "version": "3.6.2"
  }
 },
 "nbformat": 4,
 "nbformat_minor": 2
}
