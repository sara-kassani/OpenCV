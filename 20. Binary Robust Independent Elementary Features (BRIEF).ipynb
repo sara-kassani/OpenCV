{
 "cells": [
  {
   "cell_type": "markdown",
   "metadata": {},
   "source": [
    "# Binary Robust Independent Elementary Features (BRIEF)"
   ]
  },
  {
   "cell_type": "code",
   "execution_count": null,
   "metadata": {},
   "outputs": [],
   "source": [
    "import cv2\n",
    "import numpy as np\n",
    "\n",
    "gray_image = cv2.imread('./data/flower3.jpg', 0)\n",
    "\n",
    "# Initialize STAR detector\n",
    "star = cv2.xfeatures2d.StarDetector_create()\n",
    "\n",
    "# Initialize BRIEF extractor\n",
    "brief = cv2.xfeatures2d.BriefDescriptorExtractor_create()\n",
    "\n",
    "# find the keypoints with STAR\n",
    "keypoints = star.detect(gray_image, None)\n",
    "\n",
    "# compute the descriptors with BRIEF\n",
    "keypoints, descriptors = brief.compute(gray_image, keypoints)\n",
    "\n",
    "gray_keypoints = cv2.drawKeypoints(gray_image, keypoints,0, color=(0,255,0))\n",
    "cv2.imshow('BRIEF keypoints', gray_keypoints)\n",
    "cv2.waitKey(3000)\n"
   ]
  }
 ],
 "metadata": {
  "kernelspec": {
   "display_name": "Python 3",
   "language": "python",
   "name": "python3"
  },
  "language_info": {
   "codemirror_mode": {
    "name": "ipython",
    "version": 3
   },
   "file_extension": ".py",
   "mimetype": "text/x-python",
   "name": "python",
   "nbconvert_exporter": "python",
   "pygments_lexer": "ipython3",
   "version": "3.6.2"
  }
 },
 "nbformat": 4,
 "nbformat_minor": 2
}
