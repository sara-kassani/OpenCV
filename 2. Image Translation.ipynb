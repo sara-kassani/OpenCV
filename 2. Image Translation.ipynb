{
 "cells": [
  {
   "cell_type": "markdown",
   "metadata": {},
   "source": [
    "# Image Translation"
   ]
  },
  {
   "cell_type": "markdown",
   "metadata": {},
   "source": [
    "To move the image within our frame of reference. In computer vision terminology, this is referred to as translation"
   ]
  },
  {
   "cell_type": "code",
   "execution_count": null,
   "metadata": {},
   "outputs": [],
   "source": [
    "import cv2\n",
    "import numpy as np\n",
    "img = cv2.imread('./data/flower3.jpg')\n",
    "num_rows, num_cols = img.shape[:2]\n",
    "translation_matrix = np.float32([ [1,0,70], [0,1,110] ])\n",
    "img_translation = cv2.warpAffine(img, translation_matrix, (num_cols, \n",
    "num_rows))\n",
    "cv2.imshow('Translation', img_translation)\n",
    "cv2.waitKey()"
   ]
  },
  {
   "cell_type": "markdown",
   "metadata": {},
   "source": [
    "**To move the image in the middle of a bigger image frame:**"
   ]
  },
  {
   "cell_type": "code",
   "execution_count": null,
   "metadata": {
    "collapsed": true
   },
   "outputs": [],
   "source": [
    "import cv2\n",
    "import numpy as np\n",
    "img = cv2.imread('images/input.jpg')\n",
    "num_rows, num_cols = img.shape[:2]\n",
    "translation_matrix = np.float32([ [1,0,70], [0,1,110] ])\n",
    "img_translation = cv2.warpAffine(img, translation_matrix, (num_cols + 70, \n",
    "num_rows + 110))\n",
    "translation_matrix = np.float32([ [1,0,-30], [0,1,-50] ])\n",
    "img_translation = cv2.warpAffine(img_translation, translation_matrix, \n",
    "(num_cols + 70 + 30, num_rows + 110 + 50))\n",
    "cv2.imshow('Translation', img_translation)\n",
    "cv2.waitKey()"
   ]
  },
  {
   "cell_type": "code",
   "execution_count": null,
   "metadata": {
    "collapsed": true
   },
   "outputs": [],
   "source": []
  }
 ],
 "metadata": {
  "kernelspec": {
   "display_name": "Python 3",
   "language": "python",
   "name": "python3"
  },
  "language_info": {
   "codemirror_mode": {
    "name": "ipython",
    "version": 3
   },
   "file_extension": ".py",
   "mimetype": "text/x-python",
   "name": "python",
   "nbconvert_exporter": "python",
   "pygments_lexer": "ipython3",
   "version": "3.6.2"
  }
 },
 "nbformat": 4,
 "nbformat_minor": 2
}
