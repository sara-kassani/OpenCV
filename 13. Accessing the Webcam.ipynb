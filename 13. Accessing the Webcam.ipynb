{
 "cells": [
  {
   "cell_type": "markdown",
   "metadata": {},
   "source": [
    "# Accessing the Webcam"
   ]
  },
  {
   "cell_type": "code",
   "execution_count": null,
   "metadata": {
    "collapsed": true
   },
   "outputs": [],
   "source": [
    "import cv2\n",
    "\n",
    "cap = cv2.VideoCapture(0)\n",
    "\n",
    "while True:\n",
    "    ret, frame = cap.read()\n",
    "    frame = cv2.resize(frame, None, fx=0.5, fy=0.5, interpolation=cv2.INTER_AREA)\n",
    "    cv2.imshow('Input', frame)\n",
    "\n",
    "    c = cv2.waitKey(0)\n",
    "    if c == 27:\n",
    "        break\n",
    "\n",
    "cap.release()\n",
    "cv2.destroyAllWindows()  "
   ]
  },
  {
   "cell_type": "markdown",
   "metadata": {},
   "source": [
    "# Keyboard Inputs"
   ]
  },
  {
   "cell_type": "code",
   "execution_count": null,
   "metadata": {
    "collapsed": true
   },
   "outputs": [],
   "source": [
    "import argparse\n",
    "\n",
    "import cv2\n",
    "\n",
    "def argument_parser():\n",
    "    parser = argparse.ArgumentParser(description=\"Change colorspace of the \\\n",
    "            input video stream using keyboard controls. The control keys are: \\\n",
    "            Grayscale - 'g', YUV - 'y', HSV - 'h'\")\n",
    "    return parser\n",
    "\n",
    "if __name__=='__main__':\n",
    "    args = argument_parser().parse_args()\n",
    "\n",
    "    cap = cv2.VideoCapture(0)\n",
    "\n",
    "    cur_char = -1\n",
    "    prev_char = -1\n",
    "\n",
    "    while True:\n",
    "        ret, frame = cap.read()\n",
    "        frame = cv2.resize(frame, None, fx=0.5, fy=0.5, interpolation=cv2.INTER_AREA)\n",
    "\n",
    "        c = cv2.waitKey(1)\n",
    "\n",
    "        if c == 27:\n",
    "            break\n",
    "\n",
    "        if c > -1 and c != prev_char:\n",
    "            cur_char = c\n",
    "        \n",
    "        prev_char = c\n",
    "\n",
    "        if cur_char == ord('g'):\n",
    "            output = cv2.cvtColor(frame, cv2.COLOR_BGR2GRAY)\n",
    "        \n",
    "        elif cur_char == ord('y'):\n",
    "            output = cv2.cvtColor(frame, cv2.COLOR_BGR2YUV)\n",
    "\n",
    "        elif cur_char == ord('h'):\n",
    "            output = cv2.cvtColor(frame, cv2.COLOR_BGR2HSV)\n",
    "\n",
    "        else:\n",
    "            output = frame\n",
    "\n",
    "        cv2.imshow('Webcam', output)\n",
    "\n",
    "    cap.release()\n",
    "    cv2.destroyAllWindows()  \n"
   ]
  },
  {
   "cell_type": "markdown",
   "metadata": {},
   "source": [
    "# Mouse\tInputs"
   ]
  },
  {
   "cell_type": "code",
   "execution_count": null,
   "metadata": {
    "collapsed": true
   },
   "outputs": [],
   "source": [
    "import cv2\n",
    "import numpy as np\n",
    "\n",
    "def draw_rectangle(event, x, y, flags, params):\n",
    "    global x_init, y_init, drawing, top_left_pt, bottom_right_pt\n",
    "\n",
    "    if event == cv2.EVENT_LBUTTONDOWN:\n",
    "        drawing = True\n",
    "        x_init, y_init = x, y\n",
    "\n",
    "    elif event == cv2.EVENT_MOUSEMOVE:\n",
    "        if drawing:\n",
    "            top_left_pt = (min(x_init, x), min(y_init, y))\n",
    "            bottom_right_pt = (max(x_init, x), max(y_init, y)) \n",
    "            img[y_init:y, x_init:x] = 255 - img[y_init:y, x_init:x]\n",
    "\n",
    "    elif event == cv2.EVENT_LBUTTONUP:\n",
    "        drawing = False\n",
    "        top_left_pt = (min(x_init, x), min(y_init, y))\n",
    "        bottom_right_pt = (max(x_init, x), max(y_init, y)) \n",
    "        img[y_init:y, x_init:x] = 255 - img[y_init:y, x_init:x]\n",
    "\n",
    "if __name__=='__main__':\n",
    "    drawing = False \n",
    "    top_left_pt, bottom_right_pt = (-1,-1), (-1,-1)\n",
    "\n",
    "    cap = cv2.VideoCapture(0)\n",
    "    cv2.namedWindow('Webcam')\n",
    "    cv2.setMouseCallback('Webcam', draw_rectangle)\n",
    "\n",
    "    while True:\n",
    "        ret, frame = cap.read()\n",
    "        img = cv2.resize(frame, None, fx=0.5, fy=0.5, interpolation=cv2.INTER_AREA)\n",
    "        (x0,y0), (x1,y1) = top_left_pt, bottom_right_pt\n",
    "        img[y0:y1, x0:x1] = 255 - img[y0:y1, x0:x1]\n",
    "\n",
    "        cv2.imshow('Webcam', img)\n",
    "\n",
    "        c = cv2.waitKey(1) \n",
    "        if c == 27:\n",
    "            break\n",
    "\n",
    "    cv2.destroyAllWindows()\n",
    "    "
   ]
  }
 ],
 "metadata": {
  "kernelspec": {
   "display_name": "Python 3",
   "language": "python",
   "name": "python3"
  },
  "language_info": {
   "codemirror_mode": {
    "name": "ipython",
    "version": 3
   },
   "file_extension": ".py",
   "mimetype": "text/x-python",
   "name": "python",
   "nbconvert_exporter": "python",
   "pygments_lexer": "ipython3",
   "version": "3.6.2"
  }
 },
 "nbformat": 4,
 "nbformat_minor": 2
}
