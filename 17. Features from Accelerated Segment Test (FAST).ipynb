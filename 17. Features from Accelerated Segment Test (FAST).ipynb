{
 "cells": [
  {
   "cell_type": "markdown",
   "metadata": {},
   "source": [
    "# Features from Accelerated Segment Test (FAST)"
   ]
  },
  {
   "cell_type": "code",
   "execution_count": null,
   "metadata": {
    "collapsed": true
   },
   "outputs": [],
   "source": [
    "import cv2\n",
    "import numpy as np\n",
    "\n",
    "gray_image = cv2.imread('./data/flower1.jpg', 0)"
   ]
  },
  {
   "cell_type": "code",
   "execution_count": 10,
   "metadata": {},
   "outputs": [
    {
     "name": "stdout",
     "output_type": "stream",
     "text": [
      "Number of keypoints with non max suppression: 1506\n",
      "Total Keypoints without nonmaxSuppression: 6995\n"
     ]
    },
    {
     "data": {
      "text/plain": [
       "-1"
      ]
     },
     "execution_count": 10,
     "metadata": {},
     "output_type": "execute_result"
    }
   ],
   "source": [
    "fast = cv2.FastFeatureDetector_create()\n",
    "\n",
    "# Detect keypoints\n",
    "keypoints = fast.detect(gray_image, None)\n",
    "print (\"Number of keypoints with non max suppression:\", len(keypoints))\n",
    "\n",
    "# Draw keypoints on top of the input image\n",
    "img_keypoints_with_nonmax = cv2.drawKeypoints(gray_image, keypoints,0, color=(0,255,0))\n",
    "\n",
    "cv2.imshow('FAST keypoints - with non max suppression', img_keypoints_with_nonmax)\n",
    "\n",
    "# Disable nonmaxSuppression\n",
    "fast.setNonmaxSuppression(0)\n",
    "\n",
    "# Detect keypoints again\n",
    "keypoints = fast.detect(gray_image, None)\n",
    "\n",
    "print (\"Total Keypoints without nonmaxSuppression:\", len(keypoints))\n",
    "\n",
    "# Draw keypoints on top of the input image\n",
    "img_keypoints_without_nonmax = cv2.drawKeypoints(gray_image, keypoints,0, color=(0,255,0))\n",
    "cv2.imshow('FAST keypoints - without non max suppression', img_keypoints_without_nonmax)\n",
    "cv2.waitKey(3000)"
   ]
  }
 ],
 "metadata": {
  "kernelspec": {
   "display_name": "Python 3",
   "language": "python",
   "name": "python3"
  },
  "language_info": {
   "codemirror_mode": {
    "name": "ipython",
    "version": 3
   },
   "file_extension": ".py",
   "mimetype": "text/x-python",
   "name": "python",
   "nbconvert_exporter": "python",
   "pygments_lexer": "ipython3",
   "version": "3.6.2"
  }
 },
 "nbformat": 4,
 "nbformat_minor": 2
}
