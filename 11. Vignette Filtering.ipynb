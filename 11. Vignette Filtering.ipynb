{
 "cells": [
  {
   "cell_type": "markdown",
   "metadata": {},
   "source": [
    "# Vignette Filtering"
   ]
  },
  {
   "cell_type": "code",
   "execution_count": 1,
   "metadata": {
    "collapsed": true
   },
   "outputs": [],
   "source": [
    "import cv2\n",
    "import numpy as np\n",
    "\n",
    "img = cv2.imread('./data/flower1.jpg')\n",
    "rows, cols = img.shape[:2]"
   ]
  },
  {
   "cell_type": "code",
   "execution_count": 2,
   "metadata": {},
   "outputs": [
    {
     "data": {
      "text/plain": [
       "-1"
      ]
     },
     "execution_count": 2,
     "metadata": {},
     "output_type": "execute_result"
    }
   ],
   "source": [
    "kernel_x = cv2.getGaussianKernel(cols,200)\n",
    "kernel_y = cv2.getGaussianKernel(rows,200)\n",
    "kernel = kernel_y * kernel_x.T\n",
    "mask = 255 * kernel / np.linalg.norm(kernel)\n",
    "output = np.copy(img)\n",
    "\n",
    "for i in range(3):\n",
    "    output[:,:,i] = output[:,:,i] * mask\n",
    "\n",
    "cv2.imshow('Original', img)\n",
    "cv2.imshow('Vignette', output)\n",
    "cv2.waitKey(5000)"
   ]
  },
  {
   "cell_type": "markdown",
   "metadata": {},
   "source": [
    "# Shifting the focus"
   ]
  },
  {
   "cell_type": "code",
   "execution_count": 3,
   "metadata": {},
   "outputs": [
    {
     "data": {
      "text/plain": [
       "-1"
      ]
     },
     "execution_count": 3,
     "metadata": {},
     "output_type": "execute_result"
    }
   ],
   "source": [
    "kernel_x = cv2.getGaussianKernel(int(1.5*cols),200)\n",
    "kernel_y = cv2.getGaussianKernel(int(1.5*rows),200)\n",
    "kernel = kernel_y * kernel_x.T\n",
    "mask = 255 * kernel / np.linalg.norm(kernel)\n",
    "mask = mask[int(0.5*rows):, int(0.5*cols):]\n",
    "output = np.copy(img)\n",
    "\n",
    "for i in range(3):\n",
    "    output[:,:,i] = output[:,:,i] * mask\n",
    "\n",
    "cv2.imshow('Input', img)\n",
    "cv2.imshow('Vignette with shifted focus', output)\n",
    "\n",
    "\n",
    "cv2.waitKey(5000)"
   ]
  }
 ],
 "metadata": {
  "kernelspec": {
   "display_name": "Python 3",
   "language": "python",
   "name": "python3"
  },
  "language_info": {
   "codemirror_mode": {
    "name": "ipython",
    "version": 3
   },
   "file_extension": ".py",
   "mimetype": "text/x-python",
   "name": "python",
   "nbconvert_exporter": "python",
   "pygments_lexer": "ipython3",
   "version": "3.6.2"
  }
 },
 "nbformat": 4,
 "nbformat_minor": 2
}
