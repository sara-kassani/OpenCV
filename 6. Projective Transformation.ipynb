{
 "cells": [
  {
   "cell_type": "markdown",
   "metadata": {},
   "source": [
    "# Projective Transformation"
   ]
  },
  {
   "cell_type": "markdown",
   "metadata": {},
   "source": [
    "**A projective transformation, gives us more freedom. It is also referred to as homography. **\n",
    "\n",
    "any two images on a given plane are related by a homography. As long as they are in the same plane, we can transform anything into anything else. This has many practical applications such as augmented reality, image\n",
    "rectification, image registration, or the computation of camera motion between two images. <br>\n",
    "\n",
    "Once the camera rotation and translation have been extracted from an estimated homography matrix, this information may be used for navigation, or to insert models of 3D objects into an image or video. This way, they are rendered with the correct perspective and it will look like they were part of the original scene."
   ]
  },
  {
   "cell_type": "code",
   "execution_count": null,
   "metadata": {
    "collapsed": true
   },
   "outputs": [],
   "source": [
    "import cv2\n",
    "import numpy as np"
   ]
  },
  {
   "cell_type": "code",
   "execution_count": null,
   "metadata": {
    "collapsed": true
   },
   "outputs": [],
   "source": [
    "img = cv2.imread('./data/flower2.jpg')\n",
    "rows, cols = img.shape[:2]\n",
    "\n",
    "src_points = np.float32([[261,1064], [1598,847], [1201,2218], [3087,1583]])\n",
    "dst_points = np.float32([[0,0], [480,0], [0,640], [480,640]])\n",
    "\n",
    "projective_matrix = cv2.getPerspectiveTransform(src_points, dst_points)\n",
    "\n",
    "img_output = cv2.warpPerspective(img, projective_matrix, (480,640))\n",
    "\n",
    "cv2.imshow('Output', img_output)\n",
    "cv2.waitKey(3000)\n"
   ]
  },
  {
   "cell_type": "code",
   "execution_count": null,
   "metadata": {
    "collapsed": true
   },
   "outputs": [],
   "source": []
  },
  {
   "cell_type": "code",
   "execution_count": null,
   "metadata": {
    "collapsed": true
   },
   "outputs": [],
   "source": [
    "img = cv2.imread('./data/flower2.jpg')\n",
    "rows, cols = img.shape[:2]\n",
    "\n",
    "src_points = np.float32([[0,0], [cols-1,0], [0,rows-1], [cols-1,rows-1]])\n",
    "dst_points = np.float32([[0,0], [cols-1,0], [int(0.33*cols),rows-1], [int(0.66*cols),rows-1]]) \n",
    "\n",
    "\n",
    "projective_matrix = cv2.getPerspectiveTransform(src_points, dst_points)\n",
    "\n",
    "img_output = cv2.warpPerspective(img, projective_matrix, (480,640))\n",
    "\n",
    "cv2.imshow('Output', img_output)\n",
    "cv2.waitKey(3000)\n"
   ]
  },
  {
   "cell_type": "code",
   "execution_count": null,
   "metadata": {
    "collapsed": true
   },
   "outputs": [],
   "source": []
  },
  {
   "cell_type": "code",
   "execution_count": null,
   "metadata": {
    "collapsed": true
   },
   "outputs": [],
   "source": [
    "img = cv2.imread('./data/flower2.jpg')\n",
    "rows, cols = img.shape[:2]\n",
    "\n",
    "\n",
    "src_points = np.float32([[0,0], [0,rows-1], [cols/2,0], [cols/2,rows-1]])\n",
    "dst_points = np.float32([[0,100], [0,rows-101], [cols/2,0], [cols/2,rows-1]])\n",
    "\n",
    "projective_matrix = cv2.getPerspectiveTransform(src_points, dst_points)\n",
    "\n",
    "img_output = cv2.warpPerspective(img, projective_matrix, (480,640))\n",
    "\n",
    "cv2.imshow('Output', img_output)\n",
    "cv2.waitKey(3000)\n"
   ]
  }
 ],
 "metadata": {
  "kernelspec": {
   "display_name": "Python 3",
   "language": "python",
   "name": "python3"
  },
  "language_info": {
   "codemirror_mode": {
    "name": "ipython",
    "version": 3
   },
   "file_extension": ".py",
   "mimetype": "text/x-python",
   "name": "python",
   "nbconvert_exporter": "python",
   "pygments_lexer": "ipython3",
   "version": "3.6.2"
  }
 },
 "nbformat": 4,
 "nbformat_minor": 2
}
